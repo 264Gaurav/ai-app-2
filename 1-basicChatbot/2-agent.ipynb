{
 "cells": [
  {
   "cell_type": "markdown",
   "metadata": {},
   "source": [
    "# Chatbot/LLM with tools = Agent "
   ]
  },
  {
   "cell_type": "code",
   "execution_count": 1,
   "metadata": {},
   "outputs": [],
   "source": [
    "import os\n",
    "from dotenv import load_dotenv\n",
    "load_dotenv()\n",
    "\n",
    "\n",
    "from typing import Annotated\n",
    "from typing_extensions import TypedDict\n",
    "from langgraph.graph.message import add_messages\n",
    "\n",
    "class State(TypedDict):\n",
    "    messages:Annotated[list,add_messages]\n"
   ]
  },
  {
   "cell_type": "code",
   "execution_count": 2,
   "metadata": {},
   "outputs": [],
   "source": [
    "from langchain_groq import  ChatGroq\n",
    "from langchain.chat_models import init_chat_model\n",
    "\n",
    "llm=ChatGroq(model=\"llama3-8b-8192\")"
   ]
  },
  {
   "cell_type": "code",
   "execution_count": 3,
   "metadata": {},
   "outputs": [
    {
     "data": {
      "text/plain": [
       "{'query': 'What is LangGraph?',\n",
       " 'follow_up_questions': None,\n",
       " 'answer': None,\n",
       " 'images': [],\n",
       " 'results': [{'title': 'What is LangGraph? - IBM',\n",
       "   'url': 'https://www.ibm.com/think/topics/langgraph',\n",
       "   'content': 'LangGraph, created by LangChain, is an open source AI agent framework designed to build, deploy and manage complex generative AI agent workflows. At its core, LangGraph uses the power of graph-based architectures to model and manage the intricate relationships between various components of an AI agent workflow. LangGraph illuminates the processes within an AI workflow, allowing full transparency of the agent’s state. By combining these technologies with a set of APIs and tools, LangGraph provides users with a versatile platform for developing AI solutions and workflows including chatbots, state graphs and other agent-based systems. Nodes: In LangGraph, nodes represent individual components or agents within an AI workflow. LangGraph uses enhanced decision-making by modeling complex relationships between nodes, which means it uses AI agents to analyze their past actions and feedback.',\n",
       "   'score': 0.9554898,\n",
       "   'raw_content': None},\n",
       "  {'title': 'What is LangGraph? - GeeksforGeeks',\n",
       "   'url': 'https://www.geeksforgeeks.org/machine-learning/what-is-langgraph/',\n",
       "   'content': 'LangGraph is a Python library that helps you build applications like chatbots or AI agents by organizing their logic step-by-step using state machine model. This step configures your Gemini API key and then we create a simple function ask_gemini that takes user input, sends it to the Gemini model and returns the AI-generated response. Creates a state structure with three fields: question, classification and response which flows through the LangGraph. import matplotlib.pyplot as plt from langgraph.graph import StateGraph\\u200bbuilder = StateGraph(GraphState)builder.add_node(\"classify\", classify)builder.add_node(\"respond\", respond)builder.set_entry_point(\"classify\")builder.add_edge(\"classify\", \"respond\")builder.set_finish_point(\"respond\")app = builder.compile()\\u200bdef visualize_workflow(builder): G = nx.DiGraph()\\u200b for node in builder.nodes: G.add_node(node) for edge in builder.edges: G.add_edge(edge[0], edge[1])\\u200b pos = nx.spring_layout(G) nx.draw(G, pos, with_labels=True, node_size=3000, node_color=\"skyblue\", font_size=12, font_weight=\"bold\", arrows=True)  plt.title(\"Langchain Workflow Visualization\") plt.show()\\u200bvisualize_workflow(builder)',\n",
       "   'score': 0.92260116,\n",
       "   'raw_content': None}],\n",
       " 'response_time': 1.1}"
      ]
     },
     "execution_count": 3,
     "metadata": {},
     "output_type": "execute_result"
    }
   ],
   "source": [
    "from langchain_tavily import TavilySearch\n",
    "\n",
    "searchTool=TavilySearch(max_results=2)\n",
    "searchTool.invoke(\"What is LangGraph?\")"
   ]
  },
  {
   "cell_type": "code",
   "execution_count": 4,
   "metadata": {},
   "outputs": [],
   "source": [
    "## custom function  -\n",
    "def multiply(a:int,b:int)->int:\n",
    "    \"\"\"Multiply a and b\n",
    "\n",
    "    Args:\n",
    "        a (int): First number.\n",
    "        b (int): Second number.\n",
    "\n",
    "    Returns:\n",
    "        int: Product of a and b. (output int)\n",
    "    \"\"\"\n",
    "    return a*b"
   ]
  },
  {
   "cell_type": "code",
   "execution_count": 5,
   "metadata": {},
   "outputs": [],
   "source": [
    "tools=[searchTool,multiply]"
   ]
  },
  {
   "cell_type": "code",
   "execution_count": 6,
   "metadata": {},
   "outputs": [],
   "source": [
    "llm_with_tool=llm.bind_tools(tools)"
   ]
  },
  {
   "cell_type": "code",
   "execution_count": 7,
   "metadata": {},
   "outputs": [
    {
     "data": {
      "text/plain": [
       "RunnableBinding(bound=ChatGroq(client=<groq.resources.chat.completions.Completions object at 0x116b382f0>, async_client=<groq.resources.chat.completions.AsyncCompletions object at 0x116b38ec0>, model_name='llama3-8b-8192', model_kwargs={}, groq_api_key=SecretStr('**********')), kwargs={'tools': [{'type': 'function', 'function': {'name': 'tavily_search', 'description': 'A search engine optimized for comprehensive, accurate, and trusted results. Useful for when you need to answer questions about current events. It not only retrieves URLs and snippets, but offers advanced search depths, domain management, time range filters, and image search, this tool delivers real-time, accurate, and citation-backed results.Input should be a search query.', 'parameters': {'properties': {'query': {'description': 'Search query to look up', 'type': 'string'}, 'include_domains': {'anyOf': [{'items': {'type': 'string'}, 'type': 'array'}, {'type': 'null'}], 'default': [], 'description': 'A list of domains to restrict search results to.\\n\\n        Use this parameter when:\\n        1. The user explicitly requests information from specific websites (e.g., \"Find climate data from nasa.gov\")\\n        2. The user mentions an organization or company without specifying the domain (e.g., \"Find information about iPhones from Apple\")\\n\\n        In both cases, you should determine the appropriate domains (e.g., [\"nasa.gov\"] or [\"apple.com\"]) and set this parameter.\\n\\n        Results will ONLY come from the specified domains - no other sources will be included.\\n        Default is None (no domain restriction).\\n        '}, 'exclude_domains': {'anyOf': [{'items': {'type': 'string'}, 'type': 'array'}, {'type': 'null'}], 'default': [], 'description': 'A list of domains to exclude from search results.\\n\\n        Use this parameter when:\\n        1. The user explicitly requests to avoid certain websites (e.g., \"Find information about climate change but not from twitter.com\")\\n        2. The user mentions not wanting results from specific organizations without naming the domain (e.g., \"Find phone reviews but nothing from Apple\")\\n\\n        In both cases, you should determine the appropriate domains to exclude (e.g., [\"twitter.com\"] or [\"apple.com\"]) and set this parameter.\\n\\n        Results will filter out all content from the specified domains.\\n        Default is None (no domain exclusion).\\n        '}, 'search_depth': {'anyOf': [{'enum': ['basic', 'advanced'], 'type': 'string'}, {'type': 'null'}], 'default': 'basic', 'description': 'Controls search thoroughness and result comprehensiveness.\\n    \\n        Use \"basic\" for simple queries requiring quick, straightforward answers.\\n        \\n        Use \"advanced\" (default) for complex queries, specialized topics, \\n        rare information, or when in-depth analysis is needed.\\n        '}, 'include_images': {'anyOf': [{'type': 'boolean'}, {'type': 'null'}], 'default': False, 'description': 'Determines if the search returns relevant images along with text results.\\n   \\n        Set to True when the user explicitly requests visuals or when images would \\n        significantly enhance understanding (e.g., \"Show me what black holes look like,\" \\n        \"Find pictures of Renaissance art\").\\n        \\n        Leave as False (default) for most informational queries where text is sufficient.\\n        '}, 'time_range': {'anyOf': [{'enum': ['day', 'week', 'month', 'year'], 'type': 'string'}, {'type': 'null'}], 'default': None, 'description': 'Limits results to content published within a specific timeframe.\\n        \\n        ONLY set this when the user explicitly mentions a time period \\n        (e.g., \"latest AI news,\" \"articles from last week\").\\n        \\n        For less popular or niche topics, use broader time ranges \\n        (\"month\" or \"year\") to ensure sufficient relevant results.\\n   \\n        Options: \"day\" (24h), \"week\" (7d), \"month\" (30d), \"year\" (365d).\\n        \\n        Default is None.\\n        '}, 'topic': {'anyOf': [{'enum': ['general', 'news', 'finance'], 'type': 'string'}, {'type': 'null'}], 'default': 'general', 'description': 'Specifies search category for optimized results.\\n   \\n        Use \"general\" (default) for most queries, INCLUDING those with terms like \\n        \"latest,\" \"newest,\" or \"recent\" when referring to general information.\\n\\n        Use \"finance\" for markets, investments, economic data, or financial news.\\n\\n        Use \"news\" ONLY for politics, sports, or major current events covered by \\n        mainstream media - NOT simply because a query asks for \"new\" information.\\n        '}}, 'required': ['query'], 'type': 'object'}}}, {'type': 'function', 'function': {'name': 'multiply', 'description': 'Multiply a and b', 'parameters': {'properties': {'a': {'description': 'First number.', 'type': 'integer'}, 'b': {'description': 'Second number.', 'type': 'integer'}}, 'required': ['a', 'b'], 'type': 'object'}}}]}, config={}, config_factories=[])"
      ]
     },
     "execution_count": 7,
     "metadata": {},
     "output_type": "execute_result"
    }
   ],
   "source": [
    "llm_with_tool"
   ]
  },
  {
   "cell_type": "code",
   "execution_count": 8,
   "metadata": {},
   "outputs": [
    {
     "data": {
      "image/png": "[encoded data removed]",
      "text/plain": [
       "<IPython.core.display.Image object>"
      ]
     },
     "metadata": {},
     "output_type": "display_data"
    }
   ],
   "source": [
    "## Stategraph\n",
    "from langgraph.graph import StateGraph,START,END\n",
    "from langgraph.prebuilt import ToolNode\n",
    "from langgraph.prebuilt import tools_condition\n",
    "\n",
    "## Node definition\n",
    "def tool_calling_llm(state:State):\n",
    "    return {\"messages\":[llm_with_tool.invoke(state[\"messages\"])]}\n",
    "\n",
    "## Grpah\n",
    "builder=StateGraph(State)\n",
    "builder.add_node(\"tool_calling_llm\",tool_calling_llm)\n",
    "builder.add_node(\"tools\",ToolNode(tools))\n",
    "\n",
    "## Add Edges\n",
    "builder.add_edge(START, \"tool_calling_llm\")\n",
    "builder.add_conditional_edges(\n",
    "    \"tool_calling_llm\",\n",
    "    # If the latest message (result) from assistant is a tool call -> tools_condition routes to tools\n",
    "    # If the latest message (result) from assistant is a not a tool call -> tools_condition routes to END\n",
    "    tools_condition\n",
    ")\n",
    "builder.add_edge(\"tools\",END)\n",
    "\n",
    "## compile the graph\n",
    "graph=builder.compile()\n",
    "\n",
    "from IPython.display import Image, display\n",
    "display(Image(graph.get_graph().draw_mermaid_png()))"
   ]
  },
  {
   "cell_type": "code",
   "execution_count": 9,
   "metadata": {},
   "outputs": [],
   "source": [
    "response=graph.invoke({\"messages\":\"What are the recent ai news\"})"
   ]
  },
  {
   "cell_type": "code",
   "execution_count": 10,
   "metadata": {},
   "outputs": [
    {
     "data": {
      "text/plain": [
       "'{\"query\": \"recent ai news\", \"follow_up_questions\": null, \"answer\": null, \"images\": [], \"results\": [{\"url\": \"https://www.lightreading.com/ai-machine-learning/bt-and-vodafone-tech-bosses-troubled-by-dark-side-of-ai\", \"title\": \"BT and Vodafone tech bosses troubled by dark side of AI - Light Reading\", \"score\": 0.6501347, \"published_date\": \"Fri, 20 Jun 2025 11:21:04 GMT\", \"content\": \"AI & Machine Learning T-Mobile taps OpenAI to reduce customer churn 19/09/2024\\\\n\\\\n### Recommended for you\\\\n\\\\nAI & Machine Learning Image 22 sponsored Enterprise Networks Evolve From Basic Connectivity to Dynamic Experiences 29/04/2025\\\\n\\\\nAI & Machine Learning Orange is working on an AI network \\'brain\\' to run 5G 18/03/2025\\\\n\\\\nAI & Machine Learning MWC visitor numbers are up again, but the industry is decaying 07/03/2025 [...] See more from Iain Morris\\\\n\\\\nSubscribe and receive the latest news from the industry.\\\\n\\\\nJoin 62,000+ members. Yes it\\'s completely free.\\\\n\\\\nSign me up\\\\n\\\\nYou May Also Like\\\\n\\\\n  \\\\n\\\\nAI & Machine Learning sponsored Enterprise Networks Evolve From Basic Connectivity to Dynamic Experiences 29/04/2025\\\\n\\\\nAI & Machine Learning Orange is working on an AI network \\'brain\\' to run 5G 18/03/2025\\\\n\\\\nAI & Machine Learning Dell goes big on Nvidia but lauds Intel in new telecom pitch 25/09/2024 [...] #### Related Topics\\\\n\\\\n   AI & Machine Learning\\\\n   Network Automation\\\\n   Security\\\\n\\\\n   Cloud\\\\n   Virtualization\\\\n   Customer Experience\\\\n\\\\n#### Recent inDigital Transformation\\\\n\\\\nSee all\\\\n\\\\nIcon of graphic interface showing computer, machine thinking and AIImage 13AI & Machine Learning\\\\n\\\\nBT and Vodafone tech bosses troubled by dark side of AIBT and Vodafone tech bosses troubled by dark side of AI\\\\n\\\\nbyIain Morris\\\\n\\\\nJun 20, 2025\\\\n\\\\n6 Min Read\\\\n\\\\nthumbnailImage 14AI & Machine Learning\", \"raw_content\": null}, {\"url\": \"https://www.accountingtoday.com/opinion/how-generative-ai-is-reshaping-business-valuation\", \"title\": \"How generative AI is reshaping business valuation - Accounting Today\", \"score\": 0.5968332, \"published_date\": \"Fri, 20 Jun 2025 16:16:00 GMT\", \"content\": \"### IRS spruces up Pre-Filing Agreement program\\\\nNew guidance, step-by-step instructions and useful statistics are now available for large business filers.\\\\n\\\\nJun 19, 2025\\\\n\\\\nImage 5\\\\n\\\\n### Beyond algorithms, human judgment defines the future of accounting\\\\nIn the age of AI, the professionals who will excel are those who invest as much in empathy, communication and critical thinking as they do in technical skills.\\\\n\\\\nJun 17, 2025\\\\n\\\\nImage 6 [...] Image 2\\\\n\\\\n### How AI is redefining roles, creating new value in accounting and tax\\\\nAI is no longer just a distant concept, as we\\'re already seeing it reshape day-to-day functions within accounting.\\\\n\\\\nJun 13, 2025\\\\n\\\\nImage 3\\\\n\\\\n### How AI can help solve accounting\\'s labor shortage\\\\nCompanies are desperate for ways to keep their quality of service high, even though they have smaller teams. Artificial intelligence (AI) is one possible answer.\\\\n\\\\nJun 12, 2025\\\\n\\\\nImage 4\", \"raw_content\": null}], \"response_time\": 1.24}'"
      ]
     },
     "execution_count": 10,
     "metadata": {},
     "output_type": "execute_result"
    }
   ],
   "source": [
    "#response\n",
    "response['messages'][-1].content"
   ]
  },
  {
   "cell_type": "code",
   "execution_count": 11,
   "metadata": {},
   "outputs": [
    {
     "name": "stdout",
     "output_type": "stream",
     "text": [
      "================================\u001b[1m Human Message \u001b[0m=================================\n",
      "\n",
      "What are the recent ai news\n",
      "==================================\u001b[1m Ai Message \u001b[0m==================================\n",
      "Tool Calls:\n",
      "  tavily_search (hj8nkapjg)\n",
      " Call ID: hj8nkapjg\n",
      "  Args:\n",
      "    query: recent ai news\n",
      "    search_depth: advanced\n",
      "    time_range: day\n",
      "    topic: news\n",
      "=================================\u001b[1m Tool Message \u001b[0m=================================\n",
      "Name: tavily_search\n",
      "\n",
      "{\"query\": \"recent ai news\", \"follow_up_questions\": null, \"answer\": null, \"images\": [], \"results\": [{\"url\": \"https://www.lightreading.com/ai-machine-learning/bt-and-vodafone-tech-bosses-troubled-by-dark-side-of-ai\", \"title\": \"BT and Vodafone tech bosses troubled by dark side of AI - Light Reading\", \"score\": 0.6501347, \"published_date\": \"Fri, 20 Jun 2025 11:21:04 GMT\", \"content\": \"AI & Machine Learning T-Mobile taps OpenAI to reduce customer churn 19/09/2024\\n\\n### Recommended for you\\n\\nAI & Machine Learning Image 22 sponsored Enterprise Networks Evolve From Basic Connectivity to Dynamic Experiences 29/04/2025\\n\\nAI & Machine Learning Orange is working on an AI network 'brain' to run 5G 18/03/2025\\n\\nAI & Machine Learning MWC visitor numbers are up again, but the industry is decaying 07/03/2025 [...] See more from Iain Morris\\n\\nSubscribe and receive the latest news from the industry.\\n\\nJoin 62,000+ members. Yes it's completely free.\\n\\nSign me up\\n\\nYou May Also Like\\n\\n  \\n\\nAI & Machine Learning sponsored Enterprise Networks Evolve From Basic Connectivity to Dynamic Experiences 29/04/2025\\n\\nAI & Machine Learning Orange is working on an AI network 'brain' to run 5G 18/03/2025\\n\\nAI & Machine Learning Dell goes big on Nvidia but lauds Intel in new telecom pitch 25/09/2024 [...] #### Related Topics\\n\\n   AI & Machine Learning\\n   Network Automation\\n   Security\\n\\n   Cloud\\n   Virtualization\\n   Customer Experience\\n\\n#### Recent inDigital Transformation\\n\\nSee all\\n\\nIcon of graphic interface showing computer, machine thinking and AIImage 13AI & Machine Learning\\n\\nBT and Vodafone tech bosses troubled by dark side of AIBT and Vodafone tech bosses troubled by dark side of AI\\n\\nbyIain Morris\\n\\nJun 20, 2025\\n\\n6 Min Read\\n\\nthumbnailImage 14AI & Machine Learning\", \"raw_content\": null}, {\"url\": \"https://www.accountingtoday.com/opinion/how-generative-ai-is-reshaping-business-valuation\", \"title\": \"How generative AI is reshaping business valuation - Accounting Today\", \"score\": 0.5968332, \"published_date\": \"Fri, 20 Jun 2025 16:16:00 GMT\", \"content\": \"### IRS spruces up Pre-Filing Agreement program\\nNew guidance, step-by-step instructions and useful statistics are now available for large business filers.\\n\\nJun 19, 2025\\n\\nImage 5\\n\\n### Beyond algorithms, human judgment defines the future of accounting\\nIn the age of AI, the professionals who will excel are those who invest as much in empathy, communication and critical thinking as they do in technical skills.\\n\\nJun 17, 2025\\n\\nImage 6 [...] Image 2\\n\\n### How AI is redefining roles, creating new value in accounting and tax\\nAI is no longer just a distant concept, as we're already seeing it reshape day-to-day functions within accounting.\\n\\nJun 13, 2025\\n\\nImage 3\\n\\n### How AI can help solve accounting's labor shortage\\nCompanies are desperate for ways to keep their quality of service high, even though they have smaller teams. Artificial intelligence (AI) is one possible answer.\\n\\nJun 12, 2025\\n\\nImage 4\", \"raw_content\": null}], \"response_time\": 1.24}\n"
     ]
    }
   ],
   "source": [
    "for m in response['messages']:\n",
    "    m.pretty_print()"
   ]
  },
  {
   "cell_type": "code",
   "execution_count": 12,
   "metadata": {},
   "outputs": [
    {
     "name": "stdout",
     "output_type": "stream",
     "text": [
      "================================\u001b[1m Human Message \u001b[0m=================================\n",
      "\n",
      "What is 5 multiplied by 2\n",
      "==================================\u001b[1m Ai Message \u001b[0m==================================\n",
      "Tool Calls:\n",
      "  multiply (f9bc8gz5y)\n",
      " Call ID: f9bc8gz5y\n",
      "  Args:\n",
      "    a: 5\n",
      "    b: 2\n",
      "=================================\u001b[1m Tool Message \u001b[0m=================================\n",
      "Name: multiply\n",
      "\n",
      "10\n"
     ]
    }
   ],
   "source": [
    "response=graph.invoke({\"messages\":\"What is 5 multiplied by 2\"})\n",
    "for m in response['messages']:\n",
    "    m.pretty_print()"
   ]
  },
  {
   "cell_type": "code",
   "execution_count": 13,
   "metadata": {},
   "outputs": [
    {
     "name": "stdout",
     "output_type": "stream",
     "text": [
      "================================\u001b[1m Human Message \u001b[0m=================================\n",
      "\n",
      "Give me the recent ai news and also multiply 5 by 10\n",
      "==================================\u001b[1m Ai Message \u001b[0m==================================\n",
      "Tool Calls:\n",
      "  tavily_search (nsk1t032k)\n",
      " Call ID: nsk1t032k\n",
      "  Args:\n",
      "    query: recent ai news\n",
      "    search_depth: advanced\n",
      "    time_range: day\n",
      "  multiply (4q7wvd1rw)\n",
      " Call ID: 4q7wvd1rw\n",
      "  Args:\n",
      "    a: 5\n",
      "    b: 10\n",
      "=================================\u001b[1m Tool Message \u001b[0m=================================\n",
      "Name: tavily_search\n",
      "\n",
      "{\"query\": \"recent ai news\", \"follow_up_questions\": null, \"answer\": null, \"images\": [], \"results\": [{\"url\": \"https://analyticsindiamag.com/ai-news-updates/\", \"title\": \"Artificial Intelligence News - Latest AI News, Updates and Launches\", \"content\": \"Latest in AI News · HAL Secures SSLV Technology Transfer Contract, Bids ₹511 Crore · Ola's Krutrim Acquires BharatSah'AI'yak to Scale AI Solutions for Public\", \"score\": 0.77446437, \"raw_content\": null}, {\"url\": \"https://martech.org/the-latest-ai-powered-martech-news-and-releases/\", \"title\": \"The latest AI-powered martech news and releases\", \"content\": \"May 8, 2025 · Optimizely released an updated version of Opal. · PubMatic launched an updated buyer platform powered by generative AI. · BlueConic introduced two\", \"score\": 0.6877354, \"raw_content\": null}], \"response_time\": 4.11}\n",
      "=================================\u001b[1m Tool Message \u001b[0m=================================\n",
      "Name: multiply\n",
      "\n",
      "50\n"
     ]
    }
   ],
   "source": [
    "response=graph.invoke({\"messages\":\"Give me the recent ai news and also multiply 5 by 10\"})\n",
    "for m in response['messages']:\n",
    "    m.pretty_print()"
   ]
  },
  {
   "cell_type": "code",
   "execution_count": null,
   "metadata": {},
   "outputs": [],
   "source": []
  }
 ],
 "metadata": {
  "kernelspec": {
   "display_name": ".venv",
   "language": "python",
   "name": "python3"
  },
  "language_info": {
   "codemirror_mode": {
    "name": "ipython",
    "version": 3
   },
   "file_extension": ".py",
   "mimetype": "text/x-python",
   "name": "python",
   "nbconvert_exporter": "python",
   "pygments_lexer": "ipython3",
   "version": "3.13.3"
  },
  "polyglot_notebook": {
   "kernelInfo": {
    "defaultKernelName": "csharp",
    "items": [
     {
      "aliases": [],
      "name": "csharp"
     }
    ]
   }
  }
 },
 "nbformat": 4,
 "nbformat_minor": 2
}
