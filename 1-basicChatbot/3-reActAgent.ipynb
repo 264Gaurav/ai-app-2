{
 "cells": [
  {
   "cell_type": "markdown",
   "metadata": {},
   "source": [
    "# ReAct Agent Architecture"
   ]
  },
  {
   "cell_type": "code",
   "execution_count": 2,
   "metadata": {},
   "outputs": [],
   "source": [
    "import os\n",
    "from dotenv import load_dotenv\n",
    "load_dotenv()\n",
    "\n",
    "\n",
    "from typing import Annotated\n",
    "from typing_extensions import TypedDict\n",
    "from langgraph.graph.message import add_messages\n",
    "\n",
    "class State(TypedDict):\n",
    "    messages:Annotated[list,add_messages]\n"
   ]
  },
  {
   "cell_type": "code",
   "execution_count": 3,
   "metadata": {},
   "outputs": [],
   "source": [
    "from langchain_groq import  ChatGroq\n",
    "from langchain.chat_models import init_chat_model\n",
    "\n",
    "llm=ChatGroq(model=\"llama3-8b-8192\")"
   ]
  },
  {
   "cell_type": "code",
   "execution_count": 4,
   "metadata": {},
   "outputs": [
    {
     "data": {
      "text/plain": [
       "{'query': 'What is LangGraph?',\n",
       " 'follow_up_questions': None,\n",
       " 'answer': None,\n",
       " 'images': [],\n",
       " 'results': [{'title': 'What is LangGraph? - IBM',\n",
       "   'url': 'https://www.ibm.com/think/topics/langgraph',\n",
       "   'content': 'LangGraph, created by LangChain, is an open source AI agent framework designed to build, deploy and manage complex generative AI agent workflows. At its core, LangGraph uses the power of graph-based architectures to model and manage the intricate relationships between various components of an AI agent workflow. LangGraph illuminates the processes within an AI workflow, allowing full transparency of the agent’s state. By combining these technologies with a set of APIs and tools, LangGraph provides users with a versatile platform for developing AI solutions and workflows including chatbots, state graphs and other agent-based systems. Nodes: In LangGraph, nodes represent individual components or agents within an AI workflow. LangGraph uses enhanced decision-making by modeling complex relationships between nodes, which means it uses AI agents to analyze their past actions and feedback.',\n",
       "   'score': 0.9554898,\n",
       "   'raw_content': None},\n",
       "  {'title': 'What is LangGraph? - GeeksforGeeks',\n",
       "   'url': 'https://www.geeksforgeeks.org/machine-learning/what-is-langgraph/',\n",
       "   'content': 'LangGraph is a Python library that helps you build applications like chatbots or AI agents by organizing their logic step-by-step using state machine model. This step configures your Gemini API key and then we create a simple function ask_gemini that takes user input, sends it to the Gemini model and returns the AI-generated response. Creates a state structure with three fields: question, classification and response which flows through the LangGraph. import matplotlib.pyplot as plt from langgraph.graph import StateGraph\\u200bbuilder = StateGraph(GraphState)builder.add_node(\"classify\", classify)builder.add_node(\"respond\", respond)builder.set_entry_point(\"classify\")builder.add_edge(\"classify\", \"respond\")builder.set_finish_point(\"respond\")app = builder.compile()\\u200bdef visualize_workflow(builder): G = nx.DiGraph()\\u200b for node in builder.nodes: G.add_node(node) for edge in builder.edges: G.add_edge(edge[0], edge[1])\\u200b pos = nx.spring_layout(G) nx.draw(G, pos, with_labels=True, node_size=3000, node_color=\"skyblue\", font_size=12, font_weight=\"bold\", arrows=True)  plt.title(\"Langchain Workflow Visualization\") plt.show()\\u200bvisualize_workflow(builder)',\n",
       "   'score': 0.92260116,\n",
       "   'raw_content': None}],\n",
       " 'response_time': 0.98}"
      ]
     },
     "execution_count": 4,
     "metadata": {},
     "output_type": "execute_result"
    }
   ],
   "source": [
    "from langchain_tavily import TavilySearch\n",
    "\n",
    "searchTool=TavilySearch(max_results=2)\n",
    "searchTool.invoke(\"What is LangGraph?\")"
   ]
  },
  {
   "cell_type": "code",
   "execution_count": 5,
   "metadata": {},
   "outputs": [],
   "source": [
    "## custom function  -\n",
    "def multiply(a:int,b:int)->int:\n",
    "    \"\"\"Multiply a and b\n",
    "\n",
    "    Args:\n",
    "        a (int): First number.\n",
    "        b (int): Second number.\n",
    "\n",
    "    Returns:\n",
    "        int: Product of a and b. (output int)\n",
    "    \"\"\"\n",
    "    return a*b"
   ]
  },
  {
   "cell_type": "code",
   "execution_count": 6,
   "metadata": {},
   "outputs": [],
   "source": [
    "tools=[searchTool,multiply]\n",
    "\n",
    "llm_with_tool=llm.bind_tools(tools)"
   ]
  },
  {
   "cell_type": "code",
   "execution_count": 8,
   "metadata": {},
   "outputs": [
    {
     "data": {
      "image/png": "[encoded data removed]",
      "text/plain": [
       "<IPython.core.display.Image object>"
      ]
     },
     "metadata": {},
     "output_type": "display_data"
    }
   ],
   "source": [
    "## Stategraph\n",
    "from langgraph.graph import StateGraph,START,END\n",
    "from langgraph.prebuilt import ToolNode\n",
    "from langgraph.prebuilt import tools_condition\n",
    "\n",
    "## Node definition\n",
    "def tool_calling_llm(state:State):\n",
    "    return {\"messages\":[llm_with_tool.invoke(state[\"messages\"])]}\n",
    "\n",
    "## Grpah\n",
    "builder=StateGraph(State)\n",
    "builder.add_node(\"tool_calling_llm\",tool_calling_llm)\n",
    "builder.add_node(\"tools\",ToolNode(tools))\n",
    "\n",
    "## Add Edges\n",
    "builder.add_edge(START, \"tool_calling_llm\")\n",
    "builder.add_conditional_edges(\n",
    "    \"tool_calling_llm\",\n",
    "    # If the latest message (result) from assistant is a tool call -> tools_condition routes to tools\n",
    "    # If the latest message (result) from assistant is a not a tool call -> tools_condition routes to END\n",
    "    tools_condition\n",
    ")\n",
    "builder.add_edge(\"tools\",\"tool_calling_llm\")\n",
    "\n",
    "## compile the graph\n",
    "graph=builder.compile()\n",
    "\n",
    "from IPython.display import Image, display\n",
    "display(Image(graph.get_graph().draw_mermaid_png()))"
   ]
  },
  {
   "cell_type": "code",
   "execution_count": 9,
   "metadata": {},
   "outputs": [],
   "source": [
    "response=graph.invoke({\"messages\":\"What are the recent ai news\"})"
   ]
  },
  {
   "cell_type": "code",
   "execution_count": 10,
   "metadata": {},
   "outputs": [
    {
     "name": "stdout",
     "output_type": "stream",
     "text": [
      "================================\u001b[1m Human Message \u001b[0m=================================\n",
      "\n",
      "What are the recent ai news\n",
      "==================================\u001b[1m Ai Message \u001b[0m==================================\n",
      "Tool Calls:\n",
      "  tavily_search (jsszxz6qk)\n",
      " Call ID: jsszxz6qk\n",
      "  Args:\n",
      "    query: recent ai news\n",
      "    search_depth: advanced\n",
      "    time_range: week\n",
      "    topic: news\n",
      "=================================\u001b[1m Tool Message \u001b[0m=================================\n",
      "Name: tavily_search\n",
      "\n",
      "{\"query\": \"recent ai news\", \"follow_up_questions\": null, \"answer\": null, \"images\": [], \"results\": [{\"url\": \"https://www.techtarget.com/searchenterpriseai/news/366626101/Apple-AI-paper-likely-self-serving-but-has-some-merit\", \"title\": \"Apple AI paper likely self-serving but has some merit - TechTarget\", \"score\": 0.6241337, \"published_date\": \"Tue, 17 Jun 2025 20:18:27 GMT\", \"content\": \"\\\"The ambition and the hope are warranted, but if these systems can't perform even on moderately complex tasks, then it's better to understand it relatively early on,\\\" Bennett added.\\n\\nMeanwhile, on June 16, Chinese vendor Alibaba revealed that its new Qwen 3 models will run on Apple devices, including iPhone, iPad, MacBook and Mac.\\n\\n_Esther Shittu is an Informa TechTarget news writer and podcast host covering AI software and systems._\\n\\n#### Related Resources [...] Latest TechTarget resources\\n   Business Analytics\\n   CIO\\n   Data Management\\n   ERP\\n\\nSearch Business Analytics\\n   ThoughtSpot evolving as BI becomes driven by AI\\nRecent releases, including the Agentic Analytics Platform and Agentic Semantic Layer, demonstrate that the vendor continues to be...\\n\\n   Latest Databricks tools use AI to simplify AI development\\nFueled by user feedback, the vendor's newest features include a framework that automates building agents and a no-code interface ... [...] Investment in AI continues to grow. Meta, Amazon, Alphabet (Google's parent company) and Microsoft are expected to invest billions of dollars in AI technology in 2025. However, the ROI for the widely popular technology has not yet been proven.\", \"raw_content\": null}, {\"url\": \"https://www.investopedia.com/amazon-s-ceo-tells-staff-ai-could-lead-to-a-smaller-corporate-workforce-11756555\", \"title\": \"Amazon's CEO Tells Staff AI Could Lead to a Smaller Corporate Workforce - Investopedia\", \"score\": 0.5996498, \"published_date\": \"Tue, 17 Jun 2025 21:29:00 GMT\", \"content\": \"conference.:max_bytes(150000):strip_icc():format(webp)/GettyImages-2215577822-47a75431e5254defb1dd57019a2c8389.jpg) Google Buyouts Could Point to More Tech Layoffs, as Sector Faces Heavy Job LossesImage 9: AMD's \\\"Advancing AI\\\" event:max_bytes(150000):strip_icc():format(webp)/Screenshot2025-06-12at4.58.35PM-2a3e218f561c45d09abce715571008a6.jpeg) AMD Unveils Its Latest Chips, With ChatGPT Maker OpenAI Among Its CustomersImage 11: Nvidia CEO Jensen Huang meets German Chancellor Friedrich [...] headquarters.:max_bytes(150000):strip_icc():format(webp)/GettyImages-2218457787-7afaea4355494f25acce8a6b5fa05785.jpg) Meta Invests Big in Startup Scale AI, Brings On Its CEO for AI Development EffortsImage 17: People pass the shop front for the media brand Disney Store on London's Oxford Street interacting with stormtrooper figures from the Star Wars films on May 7, 2025:max_bytes(150000):strip_icc():format(webp)/GettyImages-2217902300-c0d3508e1e104b6ebdf25b82bb0cd92c.jpg) Disney, Universal Sue [...] Merz.:max_bytes(150000):strip_icc():format(webp)/GettyImages-2219239037-f48729853bf84914aced2538b5e029a3.jpg) Why Oppenheimer Is Excited About Nvidia's Potential Gains From Sovereign AI DemandImage 13: Open AI CEO Sam Altman speaks during Snowflake Summit 2025.:max_bytes(150000):strip_icc():format(webp)/GettyImages-2218344211-86cd046e842a44d0a4e33bd185d837b3.jpg) 'ChatGPT Is Already More Powerful Than Any Human,' OpenAI CEO Sam Altman SaysImage 15: Scale AI\", \"raw_content\": null}], \"response_time\": 1.38}\n",
      "==================================\u001b[1m Ai Message \u001b[0m==================================\n",
      "\n",
      "Based on the output of the tool call id \"jsszxz6qk\", I can provide a response to the user's question \"What are the recent AI news?\".\n",
      "\n",
      "Here's a summary of the recent AI news:\n",
      "\n",
      "* Apple's AI paper was released, which is likely self-serving but has some merit.\n",
      "* Alibaba revealed that its new Qwen 3 models will run on Apple devices, including iPhone, iPad, MacBook, and Mac.\n",
      "* Investment in AI continues to grow, with Meta, Amazon, Alphabet (Google's parent company), and Microsoft expected to invest billions of dollars in AI technology in 2025.\n",
      "* Amazon's CEO told staff that AI could lead to a smaller corporate workforce.\n",
      "\n",
      "These are some of the recent AI news stories that were found through the tool call id \"jsszxz6qk\".\n"
     ]
    }
   ],
   "source": [
    "for m in response['messages']:\n",
    "    m.pretty_print()"
   ]
  },
  {
   "cell_type": "code",
   "execution_count": 11,
   "metadata": {},
   "outputs": [
    {
     "name": "stdout",
     "output_type": "stream",
     "text": [
      "================================\u001b[1m Human Message \u001b[0m=================================\n",
      "\n",
      "Give me the recent ai news and also multiply 5 by 10\n",
      "==================================\u001b[1m Ai Message \u001b[0m==================================\n",
      "Tool Calls:\n",
      "  tavily_search (75b8dxrn0)\n",
      " Call ID: 75b8dxrn0\n",
      "  Args:\n",
      "    query: recent ai news\n",
      "    search_depth: advanced\n",
      "    topic: news\n",
      "  multiply (ffy3ak6a5)\n",
      " Call ID: ffy3ak6a5\n",
      "  Args:\n",
      "    a: 5\n",
      "    b: 10\n",
      "=================================\u001b[1m Tool Message \u001b[0m=================================\n",
      "Name: tavily_search\n",
      "\n",
      "{\"query\": \"recent ai news\", \"follow_up_questions\": null, \"answer\": null, \"images\": [], \"results\": [{\"url\": \"https://www.csoonline.com/article/4008912/wormgpt-returns-new-malicious-ai-variants-built-on-grok-and-mixtral-uncovered.html\", \"title\": \"WormGPT returns: New malicious AI variants built on Grok and Mixtral uncovered - csoonline.com\", \"score\": 0.70214266, \"published_date\": \"Wed, 18 Jun 2025 12:17:59 GMT\", \"content\": \"news ### New npm threats can erase production systems with a single request Jun 10, 2025 3 mins\\n   news ### Chrome extension privacy promises undone by hardcoded secrets, leaky HTTP Jun 9, 2025 4 mins\\n   news ### New phishing campaign hijacks clipboard via fake CAPTCHA for malware delivery Jun 6, 2025 4 mins\\n   news ### Supply chain attack hits RubyGems to steal Telegram API data Jun 5, 2025 4 mins [...] Related content\\n---------------\\n\\nOpinion ### Security, risk and compliance in the world of AI agents By Nikhil Sarnot Jun 17, 2025 12 mins Artificial Intelligence Compliance IT GovernanceNews ### Phishing goes prime time: Hackers use trusted sites to hijack search rankings By Shweta Sharma Jun 17, 2025 5 mins Phishing SecurityNews ### Malicious PyPI package targets Chimera users to steal AWS tokens, CI/CD secrets By Shweta Sharma Jun 17, 2025 4 mins Developer Malware Security [...] news ### ‘Grafana Ghost’ XSS flaw exposes 47,000 servers to account takeover Jun 16, 2025 3 mins\\n   news ### Fog ransomware gang abuses employee monitoring tool in unusual multi-stage attack Jun 13, 2025 4 mins\\n   news ### Phishing sites posing as DeepSeek downloads drop a proxy backdoor Jun 12, 2025 4 mins\\n   news ### China-linked hackers target cybersecurity firms, governments in global espionage campaign Jun 11, 2025 4 mins\", \"raw_content\": null}, {\"url\": \"https://www.csoonline.com/article/4009603/north-koreas-bluenoroff-uses-ai-deepfakes-to-push-mac-malware-in-fake-zoom-calls.html\", \"title\": \"North Korea’s BlueNoroff uses AI deepfakes to push Mac malware in fake Zoom calls - csoonline.com\", \"score\": 0.6615081, \"published_date\": \"Thu, 19 Jun 2025 12:06:34 GMT\", \"content\": \"Related content\\n---------------\\n\\nNews ### WormGPT returns: New malicious AI variants built on Grok and Mixtral uncovered By Shweta Sharma Jun 18, 2025 4 mins Generative AI Malware SecurityNews ### Malicious PyPI package targets Chimera users to steal AWS tokens, CI/CD secrets By Shweta Sharma Jun 17, 2025 4 mins Developer Malware SecurityNews ### Major infostealer network taken down in Interpol raid By Viktor Eriksson Jun 12, 2025 2 mins Identity and Access Management Malware Security [...] news ### China-linked hackers target cybersecurity firms, governments in global espionage campaign Jun 11, 2025 4 mins\\n   news ### New npm threats can erase production systems with a single request Jun 10, 2025 3 mins\\n   news ### Chrome extension privacy promises undone by hardcoded secrets, leaky HTTP Jun 9, 2025 4 mins\\n   news ### New phishing campaign hijacks clipboard via fake CAPTCHA for malware delivery Jun 6, 2025 4 mins\", \"raw_content\": null}], \"response_time\": 1.68}\n",
      "=================================\u001b[1m Tool Message \u001b[0m=================================\n",
      "Name: multiply\n",
      "\n",
      "50\n",
      "==================================\u001b[1m Ai Message \u001b[0m==================================\n",
      "\n",
      "Here is the result:\n",
      "\n",
      "Recent AI news:\n",
      "\n",
      "As you requested, I have retrieved the latest AI news for you. The results are as follows:\n",
      "\n",
      "1. WormGPT returns: New malicious AI variants built on Grok and Mixtral uncovered\n",
      "2. North Korea’s BlueNoroff uses AI deepfakes to push Mac malware in fake Zoom calls\n",
      "\n",
      "And, as you also requested, the result of multiplying 5 by 10 is:\n",
      "\n",
      "50\n",
      "\n",
      "I hope this information is helpful!\n"
     ]
    }
   ],
   "source": [
    "response=graph.invoke({\"messages\":\"Give me the recent ai news and also multiply 5 by 10\"})\n",
    "for m in response['messages']:\n",
    "    m.pretty_print()"
   ]
  },
  {
   "cell_type": "code",
   "execution_count": null,
   "metadata": {},
   "outputs": [],
   "source": []
  }
 ],
 "metadata": {
  "kernelspec": {
   "display_name": ".venv",
   "language": "python",
   "name": "python3"
  },
  "language_info": {
   "codemirror_mode": {
    "name": "ipython",
    "version": 3
   },
   "file_extension": ".py",
   "mimetype": "text/x-python",
   "name": "python",
   "nbconvert_exporter": "python",
   "pygments_lexer": "ipython3",
   "version": "3.13.3"
  },
  "polyglot_notebook": {
   "kernelInfo": {
    "defaultKernelName": "csharp",
    "items": [
     {
      "aliases": [],
      "name": "csharp"
     }
    ]
   }
  }
 },
 "nbformat": 4,
 "nbformat_minor": 2
}
